{
 "cells": [
  {
   "cell_type": "code",
   "execution_count": 13,
   "id": "68c4aba3",
   "metadata": {},
   "outputs": [],
   "source": [
    "from scipy.io import loadmat\n",
    "import numpy as np"
   ]
  },
  {
   "cell_type": "code",
   "execution_count": 14,
   "id": "e5e4b31d",
   "metadata": {},
   "outputs": [],
   "source": [
    "data = loadmat('salinas_pixel_remove.mat')"
   ]
  },
  {
   "cell_type": "code",
   "execution_count": 15,
   "id": "711fbdd8",
   "metadata": {},
   "outputs": [],
   "source": [
    "X = data['Y']"
   ]
  },
  {
   "cell_type": "code",
   "execution_count": 16,
   "id": "3da82a4e",
   "metadata": {},
   "outputs": [
    {
     "data": {
      "text/plain": [
       "(391, 224)"
      ]
     },
     "execution_count": 16,
     "metadata": {},
     "output_type": "execute_result"
    }
   ],
   "source": [
    "X.shape"
   ]
  },
  {
   "cell_type": "code",
   "execution_count": 17,
   "id": "4341a821",
   "metadata": {},
   "outputs": [
    {
     "data": {
      "text/plain": [
       "(1, 391)"
      ]
     },
     "execution_count": 17,
     "metadata": {},
     "output_type": "execute_result"
    }
   ],
   "source": [
    "gtLabel = data['L']\n",
    "gtLabel.shape"
   ]
  },
  {
   "cell_type": "code",
   "execution_count": 18,
   "id": "702b425b",
   "metadata": {},
   "outputs": [
    {
     "data": {
      "text/plain": [
       "(array([0, 0, 0, 0, 0, 0, 0, 0, 0, 0, 0, 0, 0, 0, 0, 0, 0, 0, 0, 0, 0, 0,\n",
       "        0, 0, 0, 0, 0, 0, 0, 0], dtype=int64),\n",
       " array([ 21,  31,  50,  57,  64,  85,  96, 114, 122, 129, 149, 159, 178,\n",
       "        185, 193, 213, 224, 242, 250, 259, 278, 288, 307, 314, 323, 342,\n",
       "        353, 371, 379, 389], dtype=int64))"
      ]
     },
     "execution_count": 18,
     "metadata": {},
     "output_type": "execute_result"
    }
   ],
   "source": [
    "np.where(gtLabel == 1)"
   ]
  },
  {
   "cell_type": "code",
   "execution_count": 44,
   "id": "db6f296a",
   "metadata": {},
   "outputs": [],
   "source": [
    "X = np.random.rand(2, 3, 4)"
   ]
  },
  {
   "cell_type": "code",
   "execution_count": 45,
   "id": "d93dafcc",
   "metadata": {},
   "outputs": [
    {
     "name": "stdout",
     "output_type": "stream",
     "text": [
      "(2, 3, 4) [[[0.49236128 0.96105335 0.80476631 0.24533258]\n",
      "  [0.54774286 0.32037856 0.77072862 0.87335168]\n",
      "  [0.57880099 0.17231234 0.09701883 0.05212166]]\n",
      "\n",
      " [[0.62783016 0.32130091 0.16909731 0.12713667]\n",
      "  [0.41240169 0.83047327 0.75651639 0.60399234]\n",
      "  [0.71380558 0.33676879 0.62349751 0.62702005]]]\n"
     ]
    }
   ],
   "source": [
    "print(X.shape, X)"
   ]
  },
  {
   "cell_type": "code",
   "execution_count": 46,
   "id": "cb8b508c",
   "metadata": {},
   "outputs": [
    {
     "data": {
      "text/plain": [
       "array([[0.49236128, 0.54774286, 0.57880099],\n",
       "       [0.62783016, 0.41240169, 0.71380558]])"
      ]
     },
     "execution_count": 46,
     "metadata": {},
     "output_type": "execute_result"
    }
   ],
   "source": [
    "x = X[:, :, 0]\n",
    "x"
   ]
  },
  {
   "cell_type": "code",
   "execution_count": 47,
   "id": "ed93d6c8",
   "metadata": {},
   "outputs": [
    {
     "name": "stdout",
     "output_type": "stream",
     "text": [
      "(3, 2, 4) [[[0.49236128 0.96105335 0.80476631 0.24533258]\n",
      "  [0.62783016 0.32130091 0.16909731 0.12713667]]\n",
      "\n",
      " [[0.54774286 0.32037856 0.77072862 0.87335168]\n",
      "  [0.41240169 0.83047327 0.75651639 0.60399234]]\n",
      "\n",
      " [[0.57880099 0.17231234 0.09701883 0.05212166]\n",
      "  [0.71380558 0.33676879 0.62349751 0.62702005]]]\n"
     ]
    }
   ],
   "source": [
    "X = X.transpose(1, 0, 2)\n",
    "print(X.shape, X)"
   ]
  },
  {
   "cell_type": "code",
   "execution_count": 48,
   "id": "af01e76e",
   "metadata": {},
   "outputs": [
    {
     "data": {
      "text/plain": [
       "array([[0.49236128, 0.96105335, 0.80476631, 0.24533258],\n",
       "       [0.54774286, 0.32037856, 0.77072862, 0.87335168],\n",
       "       [0.57880099, 0.17231234, 0.09701883, 0.05212166],\n",
       "       [0.62783016, 0.32130091, 0.16909731, 0.12713667],\n",
       "       [0.41240169, 0.83047327, 0.75651639, 0.60399234],\n",
       "       [0.71380558, 0.33676879, 0.62349751, 0.62702005]])"
      ]
     },
     "execution_count": 48,
     "metadata": {},
     "output_type": "execute_result"
    }
   ],
   "source": [
    "X = X.transpose(1, 0, 2).reshape(X.shape[0]* X.shape[1], -1)\n",
    "X"
   ]
  },
  {
   "cell_type": "code",
   "execution_count": 50,
   "id": "83fa52d6",
   "metadata": {},
   "outputs": [
    {
     "data": {
      "text/plain": [
       "array([[0.33342937, 0.19174196, 0.94709115],\n",
       "       [0.50282399, 0.43574555, 0.88410926]])"
      ]
     },
     "execution_count": 50,
     "metadata": {},
     "output_type": "execute_result"
    }
   ],
   "source": [
    "a = np.random.rand(2, 3)\n",
    "a"
   ]
  },
  {
   "cell_type": "code",
   "execution_count": 51,
   "id": "ed229083",
   "metadata": {},
   "outputs": [
    {
     "data": {
      "text/plain": [
       "array([[0.33342937],\n",
       "       [0.19174196],\n",
       "       [0.94709115],\n",
       "       [0.50282399],\n",
       "       [0.43574555],\n",
       "       [0.88410926]])"
      ]
     },
     "execution_count": 51,
     "metadata": {},
     "output_type": "execute_result"
    }
   ],
   "source": [
    "a.reshape(a.shape[0]* a.shape[1], -1)"
   ]
  },
  {
   "cell_type": "code",
   "execution_count": 38,
   "id": "3ba6c9c8",
   "metadata": {},
   "outputs": [
    {
     "data": {
      "text/plain": [
       "array([[0.32617616],\n",
       "       [0.70906978],\n",
       "       [0.70189989],\n",
       "       [0.84099536],\n",
       "       [0.44002016],\n",
       "       [0.08714317]])"
      ]
     },
     "execution_count": 38,
     "metadata": {},
     "output_type": "execute_result"
    }
   ],
   "source": [
    "a = a.T\n",
    "a.reshape(a.shape[0]* a.shape[1], -1)"
   ]
  },
  {
   "cell_type": "code",
   "execution_count": null,
   "id": "b93dc428",
   "metadata": {},
   "outputs": [],
   "source": []
  }
 ],
 "metadata": {
  "kernelspec": {
   "display_name": "Python 3 (ipykernel)",
   "language": "python",
   "name": "python3"
  },
  "language_info": {
   "codemirror_mode": {
    "name": "ipython",
    "version": 3
   },
   "file_extension": ".py",
   "mimetype": "text/x-python",
   "name": "python",
   "nbconvert_exporter": "python",
   "pygments_lexer": "ipython3",
   "version": "3.8.3"
  }
 },
 "nbformat": 4,
 "nbformat_minor": 5
}
